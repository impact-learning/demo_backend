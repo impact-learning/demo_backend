{
 "cells": [
  {
   "cell_type": "code",
   "execution_count": 86,
   "metadata": {
    "collapsed": false
   },
   "outputs": [],
   "source": [
    "import pandas as pd\n",
    "import numpy as np\n",
    "import rethinkdb as r\n",
    "from sklearn.feature_extraction import DictVectorizer\n",
    "from sklearn import cross_validation, metrics, preprocessing\n",
    "from tensorflow.contrib import learn\n",
    "import matplotlib.pyplot as plt\n",
    "import matplotlib\n",
    "\n",
    "from demo_backend.models import db"
   ]
  },
  {
   "cell_type": "code",
   "execution_count": 21,
   "metadata": {
    "collapsed": false
   },
   "outputs": [],
   "source": [
    "%matplotlib inline"
   ]
  },
  {
   "cell_type": "code",
   "execution_count": 9,
   "metadata": {
    "collapsed": false
   },
   "outputs": [],
   "source": [
    "def preprocessing_data():\n",
    "    conn = r.connect('localhost', '28015')\n",
    "    cursor = db.table('township_village') \\\n",
    "        .pluck(['county', 'township', 'village', 'scores', 'average_income_per_capita']).run(conn)\n",
    "    villages = []\n",
    "\n",
    "    for item in cursor:\n",
    "        incomes = []\n",
    "        for income in item['average_income_per_capita']:\n",
    "            data = {}\n",
    "            data['avg_income'] = np.sum([\n",
    "                income['distribution']['below_5k'] * 2500,\n",
    "                income['distribution']['5k_10k'] * (5000 + 10000) / 2,\n",
    "                income['distribution']['10k_15k'] * (10000 + 15000) / 2,\n",
    "                income['distribution']['15k_20k'] * (15000 + 20000) / 2,\n",
    "                income['distribution']['20k_25k'] * (20000 + 25000) / 2,\n",
    "                income['distribution']['above_25k'] * 25000,\n",
    "            ])\n",
    "            data['year'] = income['year']\n",
    "            incomes.append(data)\n",
    "\n",
    "        result = pd.merge(pd.DataFrame(incomes), pd.DataFrame(item['scores']), on='year')\n",
    "        result['township'] = item['township']\n",
    "        result['village'] = item['village']\n",
    "        villages.append(result)\n",
    "\n",
    "    conn.close()\n",
    "    return pd.concat(villages)"
   ]
  },
  {
   "cell_type": "code",
   "execution_count": 10,
   "metadata": {
    "collapsed": false
   },
   "outputs": [],
   "source": [
    "data = preprocessing_data()"
   ]
  },
  {
   "cell_type": "code",
   "execution_count": 11,
   "metadata": {
    "collapsed": false
   },
   "outputs": [],
   "source": [
    "feature_cols = [col for col in data.columns if col not in [u'overall']]\n",
    "x = data[feature_cols].to_dict(orient='records')\n",
    "y = data[u'overall'].values"
   ]
  },
  {
   "cell_type": "code",
   "execution_count": 12,
   "metadata": {
    "collapsed": false
   },
   "outputs": [],
   "source": [
    "vec = DictVectorizer()\n",
    "features = vec.fit_transform(x)"
   ]
  },
  {
   "cell_type": "code",
   "execution_count": 89,
   "metadata": {
    "collapsed": true
   },
   "outputs": [],
   "source": [
    "from sklearn.linear_model import LinearRegression\n",
    "\n",
    "model = LinearRegression()\n",
    "model.fit(features, y)\n",
    "\n",
    "test_data = data[feature_cols].iloc[0].to_dict()\n",
    "\n",
    "x_test = vec.transform(test_data)\n",
    "\n",
    "model.predict(x_test)"
   ]
  },
  {
   "cell_type": "code",
   "execution_count": 14,
   "metadata": {
    "collapsed": false
   },
   "outputs": [],
   "source": [
    "x = features.toarray()\n",
    "y = data[u'overall'].values"
   ]
  },
  {
   "cell_type": "code",
   "execution_count": 15,
   "metadata": {
    "collapsed": false,
    "scrolled": true
   },
   "outputs": [],
   "source": [
    "# Split dataset into train / test\n",
    "x_train, x_test, y_train, y_test = cross_validation.train_test_split(x, y, test_size=0.2, random_state=42)"
   ]
  },
  {
   "cell_type": "code",
   "execution_count": 16,
   "metadata": {
    "collapsed": false
   },
   "outputs": [],
   "source": [
    "# Scale data (training set) to 0 mean and unit standard deviation.\n",
    "scaler = preprocessing.StandardScaler()\n",
    "x_train = scaler.fit_transform(x_train)"
   ]
  },
  {
   "cell_type": "code",
   "execution_count": 17,
   "metadata": {
    "collapsed": true
   },
   "outputs": [],
   "source": [
    "# Build 2 layer fully connected DNN with 10, 10 units respectively.\n",
    "regressor = learn.DNNRegressor(hidden_units=[105, 50])"
   ]
  },
  {
   "cell_type": "code",
   "execution_count": 103,
   "metadata": {
    "collapsed": false,
    "scrolled": true
   },
   "outputs": [
    {
     "name": "stdout",
     "output_type": "stream",
     "text": [
      "MSE: 0.084430\n"
     ]
    }
   ],
   "source": [
    "# Fit\n",
    "regressor.fit(x_train, y_train, steps=5000, batch_size=1)\n",
    "\n",
    "# Predict and score\n",
    "y_predicted = regressor.predict(scaler.transform(x_test))\n",
    "score = metrics.mean_squared_error(y_test, y_predicted)\n",
    "\n",
    "print('MSE: {0:f}'.format(score))\n"
   ]
  },
  {
   "cell_type": "code",
   "execution_count": 35,
   "metadata": {
    "collapsed": false
   },
   "outputs": [],
   "source": [
    "d = pd.DataFrame([pd.DataFrame(x_test)[104].values, y_predicted, y_test]).transpose()"
   ]
  },
  {
   "cell_type": "code",
   "execution_count": 87,
   "metadata": {
    "collapsed": false
   },
   "outputs": [],
   "source": [
    "matplotlib.style.use('ggplot')"
   ]
  },
  {
   "cell_type": "code",
   "execution_count": 102,
   "metadata": {
    "collapsed": false,
    "scrolled": true
   },
   "outputs": [
    {
     "data": {
      "text/plain": [
       "<matplotlib.axes._subplots.AxesSubplot at 0x1218bd250>"
      ]
     },
     "execution_count": 102,
     "metadata": {},
     "output_type": "execute_result"
    },
    {
     "data": {
      "image/png": "[encoded data removed]",
      "text/plain": [
       "<matplotlib.figure.Figure at 0x1219acb10>"
      ]
     },
     "metadata": {},
     "output_type": "display_data"
    }
   ],
   "source": [
    "ax = d.plot.scatter(x=0, y=1, s=5*5*3.15, color='Green')\n",
    "d.plot.scatter(x=0, y=2, s=5*5*3.15, color='Blue', ax=ax)"
   ]
  },
  {
   "cell_type": "code",
   "execution_count": 115,
   "metadata": {
    "collapsed": false
   },
   "outputs": [],
   "source": [
    "X = np.random.uniform(0, 10.0, size=100).astype(np.float32)"
   ]
  },
  {
   "cell_type": "code",
   "execution_count": 116,
   "metadata": {
    "collapsed": true
   },
   "outputs": [],
   "source": [
    "def f(x):\n",
    "    \"\"\"The function to predict.\"\"\"\n",
    "    return x * np.sin(x)"
   ]
  },
  {
   "cell_type": "code",
   "execution_count": 122,
   "metadata": {
    "collapsed": true
   },
   "outputs": [],
   "source": [
    "# Observations\n",
    "y = f(X).ravel()"
   ]
  },
  {
   "cell_type": "code",
   "execution_count": 123,
   "metadata": {
    "collapsed": false
   },
   "outputs": [
    {
     "data": {
      "text/plain": [
       "array([ 1.7825092 ,  1.69185218,  2.4148118 ,  1.91795763,  2.49662024,\n",
       "        1.88640413,  1.55496309,  1.94544457,  1.73566659,  1.76866337,\n",
       "        1.61121146,  1.98230699,  1.88051857,  1.97271466,  1.97765581,\n",
       "        1.90382401,  2.09602964,  2.21558717,  2.46663035,  2.1019471 ,\n",
       "        2.48895525,  1.80369134,  1.66787417,  1.92957233,  1.52782253,\n",
       "        1.83900765,  2.4650818 ,  1.68181136,  2.17439553,  2.15555944,\n",
       "        1.96674656,  1.68298838,  1.9349935 ,  2.35816217,  2.00784712,\n",
       "        2.11910845,  1.91165359,  1.70677396,  2.26753313,  2.03258388,\n",
       "        1.5007323 ,  2.47613335,  2.23334056,  1.56957793,  2.25302224,\n",
       "        2.27831055,  2.43890345,  1.64578826,  1.79310889,  1.9204544 ,\n",
       "        1.53511414,  1.57507047,  2.00558879,  1.50809745,  1.70151826,\n",
       "        1.88790561,  1.77959966,  2.19378354,  2.4317293 ,  2.21897731,\n",
       "        1.88275818,  2.25406792,  2.07573799,  1.69800852,  2.3452747 ,\n",
       "        2.17330971,  1.75337875,  2.19815907,  2.16119768,  1.8599489 ,\n",
       "        2.20932146,  1.55848164,  2.256857  ,  1.89476937,  2.16545617,\n",
       "        1.94062236,  2.47253085,  2.43312406,  2.39657196,  2.12261003,\n",
       "        1.71887259,  1.66947082,  2.17901031,  1.66918782,  1.98124471,\n",
       "        1.83329341,  1.56725802,  2.33339071,  1.77258831,  2.39956651,\n",
       "        2.16640609,  2.17352825,  2.41239953,  2.32173076,  2.40538788,\n",
       "        2.46334062,  2.341698  ,  2.3005465 ,  1.50376216,  1.92301316])"
      ]
     },
     "execution_count": 123,
     "metadata": {},
     "output_type": "execute_result"
    }
   ],
   "source": [
    "dy = 1.5 + 1.0 * np.random.random(y.shape)\n",
    "dy"
   ]
  }
 ],
 "metadata": {
  "kernelspec": {
   "display_name": "Python 2",
   "language": "python",
   "name": "python2"
  },
  "language_info": {
   "codemirror_mode": {
    "name": "ipython",
    "version": 2
   },
   "file_extension": ".py",
   "mimetype": "text/x-python",
   "name": "python",
   "nbconvert_exporter": "python",
   "pygments_lexer": "ipython2",
   "version": "2.7.11"
  }
 },
 "nbformat": 4,
 "nbformat_minor": 0
}
